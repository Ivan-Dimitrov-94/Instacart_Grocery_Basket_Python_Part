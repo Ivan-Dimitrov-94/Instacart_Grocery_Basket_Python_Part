{
 "cells": [
  {
   "cell_type": "markdown",
   "id": "7058df2e",
   "metadata": {},
   "source": [
    "# 01. Importing Libraries"
   ]
  },
  {
   "cell_type": "code",
   "execution_count": 1,
   "id": "1901dcf8",
   "metadata": {},
   "outputs": [],
   "source": [
    "# Import Libraries\n",
    "import pandas as pd\n",
    "import numpy as np\n",
    "import os"
   ]
  },
  {
   "cell_type": "markdown",
   "id": "420e0a3f",
   "metadata": {},
   "source": [
    "# 02. Data Types Exercise 4.2 - Ivan Dimitrov"
   ]
  },
  {
   "cell_type": "code",
   "execution_count": 6,
   "id": "26d35afb",
   "metadata": {},
   "outputs": [],
   "source": [
    "# Step 7: Code 3 different ways of reaching a result of 100 by adding or subtracting numeric variables."
   ]
  },
  {
   "cell_type": "code",
   "execution_count": 7,
   "id": "ebeffa0f",
   "metadata": {},
   "outputs": [],
   "source": [
    "a = 50\n",
    "b = 50"
   ]
  },
  {
   "cell_type": "code",
   "execution_count": 8,
   "id": "b4c651ac",
   "metadata": {},
   "outputs": [
    {
     "data": {
      "text/plain": [
       "100"
      ]
     },
     "execution_count": 8,
     "metadata": {},
     "output_type": "execute_result"
    }
   ],
   "source": [
    "a+b"
   ]
  },
  {
   "cell_type": "code",
   "execution_count": 9,
   "id": "ff20afa2",
   "metadata": {},
   "outputs": [],
   "source": [
    "b = b+50"
   ]
  },
  {
   "cell_type": "code",
   "execution_count": 10,
   "id": "76390156",
   "metadata": {},
   "outputs": [
    {
     "name": "stdout",
     "output_type": "stream",
     "text": [
      "100\n"
     ]
    }
   ],
   "source": [
    "print(b)"
   ]
  },
  {
   "cell_type": "code",
   "execution_count": 12,
   "id": "44e8afdd",
   "metadata": {},
   "outputs": [],
   "source": [
    "b = b+50"
   ]
  },
  {
   "cell_type": "code",
   "execution_count": 13,
   "id": "10bfe771",
   "metadata": {},
   "outputs": [
    {
     "data": {
      "text/plain": [
       "100"
      ]
     },
     "execution_count": 13,
     "metadata": {},
     "output_type": "execute_result"
    }
   ],
   "source": [
    "b - a"
   ]
  },
  {
   "cell_type": "code",
   "execution_count": 14,
   "id": "6c0b0718",
   "metadata": {},
   "outputs": [],
   "source": [
    "c = b-a"
   ]
  },
  {
   "cell_type": "code",
   "execution_count": 15,
   "id": "e356aea7",
   "metadata": {},
   "outputs": [
    {
     "name": "stdout",
     "output_type": "stream",
     "text": [
      "100\n"
     ]
    }
   ],
   "source": [
    "print(c)"
   ]
  },
  {
   "cell_type": "code",
   "execution_count": 17,
   "id": "373f0174",
   "metadata": {},
   "outputs": [],
   "source": [
    "# Step 8: Code 2 floating-point variables and divide them by each other."
   ]
  },
  {
   "cell_type": "code",
   "execution_count": 20,
   "id": "f079cb2d",
   "metadata": {},
   "outputs": [],
   "source": [
    "e=10.50\n",
    "d=50.50"
   ]
  },
  {
   "cell_type": "code",
   "execution_count": 21,
   "id": "0a3acbe5",
   "metadata": {},
   "outputs": [],
   "source": [
    "f = d/e"
   ]
  },
  {
   "cell_type": "code",
   "execution_count": 22,
   "id": "60713b10",
   "metadata": {},
   "outputs": [
    {
     "name": "stdout",
     "output_type": "stream",
     "text": [
      "4.809523809523809\n"
     ]
    }
   ],
   "source": [
    "print(f)"
   ]
  },
  {
   "cell_type": "code",
   "execution_count": 23,
   "id": "7295b3d0",
   "metadata": {},
   "outputs": [],
   "source": [
    "# Step 9: Construct a short word made of separate strings (you’ll need to concatenate some strings!)."
   ]
  },
  {
   "cell_type": "code",
   "execution_count": 25,
   "id": "f6455627",
   "metadata": {},
   "outputs": [],
   "source": [
    "g='basket'\n",
    "h='ball'"
   ]
  },
  {
   "cell_type": "code",
   "execution_count": 26,
   "id": "8d0e7e44",
   "metadata": {},
   "outputs": [],
   "source": [
    "i =g+h"
   ]
  },
  {
   "cell_type": "code",
   "execution_count": 27,
   "id": "603d19bf",
   "metadata": {},
   "outputs": [
    {
     "name": "stdout",
     "output_type": "stream",
     "text": [
      "basketball\n"
     ]
    }
   ],
   "source": [
    "print(i)"
   ]
  },
  {
   "cell_type": "code",
   "execution_count": 28,
   "id": "29e80893",
   "metadata": {},
   "outputs": [
    {
     "data": {
      "text/plain": [
       "'basketball'"
      ]
     },
     "execution_count": 28,
     "metadata": {},
     "output_type": "execute_result"
    }
   ],
   "source": [
    "g+h"
   ]
  },
  {
   "cell_type": "code",
   "execution_count": 29,
   "id": "37d75231",
   "metadata": {},
   "outputs": [],
   "source": [
    "# Step 10: Construct 2 short sentences made of separate strings."
   ]
  },
  {
   "cell_type": "code",
   "execution_count": 30,
   "id": "05d4705c",
   "metadata": {},
   "outputs": [],
   "source": [
    "j='Hello, '\n",
    "k='World!'"
   ]
  },
  {
   "cell_type": "code",
   "execution_count": 31,
   "id": "33ea1ceb",
   "metadata": {},
   "outputs": [
    {
     "data": {
      "text/plain": [
       "'Hello, World!'"
      ]
     },
     "execution_count": 31,
     "metadata": {},
     "output_type": "execute_result"
    }
   ],
   "source": [
    "j+k"
   ]
  },
  {
   "cell_type": "code",
   "execution_count": 32,
   "id": "6b4f1aae",
   "metadata": {},
   "outputs": [],
   "source": [
    "l='Oh! '\n",
    "m='Hi, Mark'"
   ]
  },
  {
   "cell_type": "code",
   "execution_count": 33,
   "id": "575204a9",
   "metadata": {},
   "outputs": [
    {
     "data": {
      "text/plain": [
       "'Oh! Hi, Mark'"
      ]
     },
     "execution_count": 33,
     "metadata": {},
     "output_type": "execute_result"
    }
   ],
   "source": [
    "l+m"
   ]
  },
  {
   "cell_type": "code",
   "execution_count": 34,
   "id": "20800384",
   "metadata": {},
   "outputs": [],
   "source": [
    "n='Once upon a time there was a little lady. '\n",
    "o='Her name was Ursula'"
   ]
  },
  {
   "cell_type": "code",
   "execution_count": 35,
   "id": "d5526535",
   "metadata": {},
   "outputs": [
    {
     "data": {
      "text/plain": [
       "'Once upon a time there was a little lady. Her name was Ursula'"
      ]
     },
     "execution_count": 35,
     "metadata": {},
     "output_type": "execute_result"
    }
   ],
   "source": [
    "n+o"
   ]
  },
  {
   "cell_type": "code",
   "execution_count": 36,
   "id": "762e6183",
   "metadata": {},
   "outputs": [],
   "source": [
    "# Bonus Task: include a command that makes a string appear 100 times."
   ]
  },
  {
   "cell_type": "code",
   "execution_count": 37,
   "id": "ddfa6acf",
   "metadata": {},
   "outputs": [],
   "source": [
    "z='Fire!'"
   ]
  },
  {
   "cell_type": "code",
   "execution_count": 38,
   "id": "44406f9a",
   "metadata": {},
   "outputs": [
    {
     "data": {
      "text/plain": [
       "'Fire!Fire!Fire!Fire!Fire!Fire!Fire!Fire!Fire!Fire!Fire!Fire!Fire!Fire!Fire!Fire!Fire!Fire!Fire!Fire!Fire!Fire!Fire!Fire!Fire!Fire!Fire!Fire!Fire!Fire!Fire!Fire!Fire!Fire!Fire!Fire!Fire!Fire!Fire!Fire!Fire!Fire!Fire!Fire!Fire!Fire!Fire!Fire!Fire!Fire!Fire!Fire!Fire!Fire!Fire!Fire!Fire!Fire!Fire!Fire!Fire!Fire!Fire!Fire!Fire!Fire!Fire!Fire!Fire!Fire!Fire!Fire!Fire!Fire!Fire!Fire!Fire!Fire!Fire!Fire!Fire!Fire!Fire!Fire!Fire!Fire!Fire!Fire!Fire!Fire!Fire!Fire!Fire!Fire!Fire!Fire!Fire!Fire!Fire!Fire!'"
      ]
     },
     "execution_count": 38,
     "metadata": {},
     "output_type": "execute_result"
    }
   ],
   "source": [
    "z*100"
   ]
  },
  {
   "cell_type": "code",
   "execution_count": null,
   "id": "1ca4c538",
   "metadata": {},
   "outputs": [],
   "source": []
  }
 ],
 "metadata": {
  "kernelspec": {
   "display_name": "Python 3 (ipykernel)",
   "language": "python",
   "name": "python3"
  },
  "language_info": {
   "codemirror_mode": {
    "name": "ipython",
    "version": 3
   },
   "file_extension": ".py",
   "mimetype": "text/x-python",
   "name": "python",
   "nbconvert_exporter": "python",
   "pygments_lexer": "ipython3",
   "version": "3.10.9"
  }
 },
 "nbformat": 4,
 "nbformat_minor": 5
}
